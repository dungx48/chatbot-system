{
 "cells": [
  {
   "cell_type": "code",
   "execution_count": 1,
   "id": "8b712f55",
   "metadata": {},
   "outputs": [],
   "source": [
    "doc = \"\"\"\n",
    "Hướng dẫn đăng ký mở thẻ MB\n",
    "Hướng dẫn mở thẻ MB online\n",
    "Để có thể đăng ký và mở thẻ của Ngân hàng Quân đội MB trên ứng dụng di động, bạn hãy làm theo hướng dẫn sau:\n",
    "\t• Bước 1: Tải ứng dụng App MBBank về máy, tiến hành đăng nhập vào ứng dụng\n",
    "\t• Bước 2: Lựa chọn mục Thẻ\n",
    "\t• Bước 3: Lựa chọn Phát hành thẻ\n",
    "\t• Bước 4: Lựa chọn loại thẻ mong muốn phát hành (thẻ tín dụng, thẻ đa năng hoặc thẻ ATM) \n",
    "\t• Bước 5: Lựa chọn Tiếp tục và tiếp tục thao tác\n",
    "Hướng dẫn mở thẻ MB online\n",
    ">> Xem thêm: Hướng dẫn mở thẻ MB Hi Collection và trải nghiệm những tiện ích hiện đại\n",
    "Trên đây chúng tôi đã giới thiệu tới bạn cách đăng ký và mở thẻ online nhanh chóng và tiện lợi nhất trên ứng dụng App MBBank. Nếu còn bất kỳ thắc mắc nào về các sản phẩm thẻ cũng như dịch vụ thẻ được cung cấp bởi Ngân hàng Quân đội MB, đừng ngần ngại liên hệ với chúng tôi thông qua Hotline 1900 545426 hoặc truy cập trang web  https://www.mbbank.com.vn/ để được giải đáp kịp thời.\n",
    "Nên chọn loại thẻ nào\n",
    "Thẻ ngân hàng được phân loại dựa trên chức năng, phạm vi lãnh thổ sử dụng, hình thức phát hành thẻ và công nghệ phát hành thẻ. Việc lựa chọn loại thẻ ngân hàng nào để sử dụng tùy thuộc vào điều kiện kinh tế cũng như nhu cầu sử dụng của bạn. Sau đây là những loại thẻ ngân hàng phổ biến được phát hành bởi Ngân hàng Quân đội MB mà bạn nên tham khảo:\n",
    "\t1. Thẻ ghi nợ (Debit Card): Dành cho khách hàng có nhu cầu chi tiêu, rút tiền cơ bản. Với thẻ ghi nợ, bạn có thể chi tiêu, rút tiền với số tiền mà bạn có trong tài khoản gắn với thẻ (có bao nhiêu chi tiêu bấy nhiêu)\n",
    "\t2. Thẻ tín dụng (Credit Card): Là loại thẻ cho chi tiêu trước, trả tiền sau trong hạn mức tín dụng mà ngân hàng cấp cho bạn. Hạn mức thẻ sẽ được cấp dựa theo tình hình kinh tế và khả năng chi trả mà bạn chứng minh với ngân hàng. Thẻ tín dụng đặc biệt phù hợp với những người có nhu cầu chi tiêu nhiều, thường xuyên có nhu cầu vay để tiêu dùng, cần một số tiền lớn để giao dịch trong thời gian ngắn. Ngoài những tính năng cơ bản thì việc sử dụng thẻ tín dụng sẽ mang đến cho bạn nhiều lợi ích khác như tính năng hoàn tiền khi sử dụng, giảm giá tại một số địa điểm ăn uống, vui chơi giải trí, sàn thương mại điện tử có liên kết với ngân hàng.\n",
    "\t3. Thẻ đa năng (Hybrid Card): Là loại thẻ tích hợp 2 chip trong 1, vừa có tính năng như thẻ tín dụng, vừa có tính năng như thẻ ghi nợ, vô cùng tiện lợi cho các nhu cầu chi tiêu, rút tiền mặt đa dạng. Đối với từng giao dịch, thẻ Hybrid sẽ ưu tiên nguồn tiền phù hợp: Sử dụng nguồn tiền từ tài khoản thanh toán đối với giao dịch rút tiền qua ATM, CDM. Sử dụng nguồn tiền từ hạn mức tín dụng cho giao dịch chi tiêu qua POS, online, rút tiền qua ATM tại nước ngoài.\n",
    "\"\"\""
   ]
  },
  {
   "cell_type": "code",
   "execution_count": 2,
   "id": "4f447db5",
   "metadata": {},
   "outputs": [
    {
     "data": {
      "text/plain": [
       "'\\nHướng dẫn đăng ký mở thẻ MB\\nHướng dẫn mở thẻ MB online\\nĐể có thể đăng ký và mở thẻ của Ngân hàng Quân đội MB trên ứng dụng di động, bạn hãy làm theo hướng dẫn sau:\\n\\t• Bước 1: Tải ứng dụng App MBBank về máy, tiến hành đăng nhập vào ứng dụng\\n\\t• Bước 2: Lựa chọn mục Thẻ\\n\\t• Bước 3: Lựa chọn Phát hành thẻ\\n\\t• Bước 4: Lựa chọn loại thẻ mong muốn phát hành (thẻ tín dụng, thẻ đa năng hoặc thẻ ATM) \\n\\t• Bước 5: Lựa chọn Tiếp tục và tiếp tục thao tác\\nHướng dẫn mở thẻ MB online\\n>> Xem thêm: Hướng dẫn mở thẻ MB Hi Collection và trải nghiệm những tiện ích hiện đại\\nTrên đây chúng tôi đã giới thiệu tới bạn cách đăng ký và mở thẻ online nhanh chóng và tiện lợi nhất trên ứng dụng App MBBank. Nếu còn bất kỳ thắc mắc nào về các sản phẩm thẻ cũng như dịch vụ thẻ được cung cấp bởi Ngân hàng Quân đội MB, đừng ngần ngại liên hệ với chúng tôi thông qua Hotline 1900 545426 hoặc truy cập trang web  https://www.mbbank.com.vn/ để được giải đáp kịp thời.\\nNên chọn loại thẻ nào\\nThẻ ngân hàng được phân loại dựa trên chức năng, phạm vi lãnh thổ sử dụng, hình thức phát hành thẻ và công nghệ phát hành thẻ. Việc lựa chọn loại thẻ ngân hàng nào để sử dụng tùy thuộc vào điều kiện kinh tế cũng như nhu cầu sử dụng của bạn. Sau đây là những loại thẻ ngân hàng phổ biến được phát hành bởi Ngân hàng Quân đội MB mà bạn nên tham khảo:\\n\\t1. Thẻ ghi nợ (Debit Card): Dành cho khách hàng có nhu cầu chi tiêu, rút tiền cơ bản. Với thẻ ghi nợ, bạn có thể chi tiêu, rút tiền với số tiền mà bạn có trong tài khoản gắn với thẻ (có bao nhiêu chi tiêu bấy nhiêu)\\n\\t2. Thẻ tín dụng (Credit Card): Là loại thẻ cho chi tiêu trước, trả tiền sau trong hạn mức tín dụng mà ngân hàng cấp cho bạn. Hạn mức thẻ sẽ được cấp dựa theo tình hình kinh tế và khả năng chi trả mà bạn chứng minh với ngân hàng. Thẻ tín dụng đặc biệt phù hợp với những người có nhu cầu chi tiêu nhiều, thường xuyên có nhu cầu vay để tiêu dùng, cần một số tiền lớn để giao dịch trong thời gian ngắn. Ngoài những tính năng cơ bản thì việc sử dụng thẻ tín dụng sẽ mang đến cho bạn nhiều lợi ích khác như tính năng hoàn tiền khi sử dụng, giảm giá tại một số địa điểm ăn uống, vui chơi giải trí, sàn thương mại điện tử có liên kết với ngân hàng.\\n\\t3. Thẻ đa năng (Hybrid Card): Là loại thẻ tích hợp 2 chip trong 1, vừa có tính năng như thẻ tín dụng, vừa có tính năng như thẻ ghi nợ, vô cùng tiện lợi cho các nhu cầu chi tiêu, rút tiền mặt đa dạng. Đối với từng giao dịch, thẻ Hybrid sẽ ưu tiên nguồn tiền phù hợp: Sử dụng nguồn tiền từ tài khoản thanh toán đối với giao dịch rút tiền qua ATM, CDM. Sử dụng nguồn tiền từ hạn mức tín dụng cho giao dịch chi tiêu qua POS, online, rút tiền qua ATM tại nước ngoài.\\n'"
      ]
     },
     "execution_count": 2,
     "metadata": {},
     "output_type": "execute_result"
    }
   ],
   "source": [
    "doc"
   ]
  },
  {
   "cell_type": "code",
   "execution_count": 3,
   "id": "9727f20e",
   "metadata": {},
   "outputs": [],
   "source": [
    "# from sentence_transformers import SentenceTransformer\n",
    "# from langchain_experimental.text_splitter import SemanticChunker\n",
    "\n",
    "\n",
    "# class MyEmbeddingWrapper:\n",
    "#     def __init__(self, model_name):\n",
    "#         self.model = SentenceTransformer(model_name)\n",
    "\n",
    "#     def embed_documents(self, texts):\n",
    "#         return self.model.encode(texts, show_progress_bar=False).tolist()\n",
    "\n",
    "#     def embed_query(self, text):\n",
    "#         return self.model.encode([text])[0].tolist()\n",
    "\n",
    "# # Sử dụng wrapper\n",
    "# embeddings = MyEmbeddingWrapper(\"BAAI/bge-m3\")\n",
    "\n",
    "# sematic_splitter = SemanticChunker(\n",
    "#     embeddings=embeddings,\n",
    "#     breakpoint_threshold_type=\"percentile\",\n",
    "#     breakpoint_threshold_amount=80,\n",
    "# )\n"
   ]
  },
  {
   "cell_type": "code",
   "execution_count": 1,
   "id": "b00cf1e2",
   "metadata": {},
   "outputs": [
    {
     "name": "stderr",
     "output_type": "stream",
     "text": [
      "C:\\Users\\dungm\\AppData\\Local\\Temp\\ipykernel_4740\\1541299199.py:3: LangChainDeprecationWarning: The class `HuggingFaceEmbeddings` was deprecated in LangChain 0.2.2 and will be removed in 1.0. An updated version of the class exists in the :class:`~langchain-huggingface package and should be used instead. To use it run `pip install -U :class:`~langchain-huggingface` and import as `from :class:`~langchain_huggingface import HuggingFaceEmbeddings``.\n",
      "  embeddings = HuggingFaceEmbeddings(model_name=\"BAAI/bge-m3\")\n",
      "c:\\Users\\dungm\\miniconda3\\envs\\chatbot\\Lib\\site-packages\\tqdm\\auto.py:21: TqdmWarning: IProgress not found. Please update jupyter and ipywidgets. See https://ipywidgets.readthedocs.io/en/stable/user_install.html\n",
      "  from .autonotebook import tqdm as notebook_tqdm\n"
     ]
    }
   ],
   "source": [
    "from langchain_community.embeddings import HuggingFaceEmbeddings\n",
    "\n",
    "embeddings = HuggingFaceEmbeddings(model_name=\"BAAI/bge-m3\")"
   ]
  },
  {
   "cell_type": "code",
   "execution_count": null,
   "id": "7a77c4a4",
   "metadata": {},
   "outputs": [],
   "source": [
    "from langchain_experimental.text_splitter import SemanticChunker\n",
    "# from langchain_openai import OpenAIEmbeddings\n",
    "# from sentence_transformers import SentenceTransformer\n",
    "\n",
    "sematic_splitter = SemanticChunker(\n",
    "    embeddings=embeddings,\n",
    "    breakpoint_threshold_type=\"percentile\", # dùng ngưỡng phần trăm để xác định điểm ngắt.\n",
    "    breakpoint_threshold_amount=50, # ngưỡng phần trăm là 50%, nghĩa là nếu độ tương đồng của đoạn văn bản với đoạn trước đó dưới 50% thì sẽ tạo một đoạn mới.\n",
    ")"
   ]
  },
  {
   "cell_type": "code",
   "execution_count": null,
   "id": "49ec3428",
   "metadata": {},
   "outputs": [],
   "source": [
    "# from langchain_text_splitters import RecursiveCharacterTextSplitter, MarkdownHeaderTextSplitter\n",
    "\n",
    "# splitter = RecursiveCharacterTextSplitter(\n",
    "#     chunk_size=250,\n",
    "#     chunk_overlap=50\n",
    "# )"
   ]
  },
  {
   "cell_type": "code",
   "execution_count": null,
   "id": "f73acfab",
   "metadata": {},
   "outputs": [
    {
     "data": {
      "text/plain": [
       "8"
      ]
     },
     "execution_count": 11,
     "metadata": {},
     "output_type": "execute_result"
    }
   ],
   "source": [
    "chunks = sematic_splitter.split_text(doc)\n",
    "len(chunks)"
   ]
  },
  {
   "cell_type": "code",
   "execution_count": null,
   "id": "6123763c",
   "metadata": {},
   "outputs": [
    {
     "data": {
      "text/plain": [
       "'\\nHướng dẫn đăng ký mở thẻ MB\\nHướng dẫn mở thẻ MB online\\nĐể có thể đăng ký và mở thẻ của Ngân hàng Quân đội MB trên ứng dụng di động, bạn hãy làm theo hướng dẫn sau:\\n\\t• Bước 1: Tải ứng dụng App MBBank về máy, tiến hành đăng nhập vào ứng dụng\\n\\t• Bước 2: Lựa chọn mục Thẻ\\n\\t• Bước 3: Lựa chọn Phát hành thẻ\\n\\t• Bước 4: Lựa chọn loại thẻ mong muốn phát hành (thẻ tín dụng, thẻ đa năng hoặc thẻ ATM) \\n\\t• Bước 5: Lựa chọn Tiếp tục và tiếp tục thao tác\\nHướng dẫn mở thẻ MB online\\n>> Xem thêm: Hướng dẫn mở thẻ MB Hi Collection và trải nghiệm những tiện ích hiện đại\\nTrên đây chúng tôi đã giới thiệu tới bạn cách đăng ký và mở thẻ online nhanh chóng và tiện lợi nhất trên ứng dụng App MBBank. Nếu còn bất kỳ thắc mắc nào về các sản phẩm thẻ cũng như dịch vụ thẻ được cung cấp bởi Ngân hàng Quân đội MB, đừng ngần ngại liên hệ với chúng tôi thông qua Hotline 1900 545426 hoặc truy cập trang web  https://www.mbbank.com.vn/ để được giải đáp kịp thời.'"
      ]
     },
     "execution_count": 12,
     "metadata": {},
     "output_type": "execute_result"
    }
   ],
   "source": [
    "chunks[0]\n"
   ]
  },
  {
   "cell_type": "markdown",
   "id": "53045b73",
   "metadata": {},
   "source": [
    "# push vector to db"
   ]
  },
  {
   "cell_type": "code",
   "execution_count": null,
   "id": "c7dad023",
   "metadata": {},
   "outputs": [
    {
     "name": "stderr",
     "output_type": "stream",
     "text": [
      "c:\\Users\\dungm\\miniconda3\\envs\\chatbot\\Lib\\site-packages\\tqdm\\auto.py:21: TqdmWarning: IProgress not found. Please update jupyter and ipywidgets. See https://ipywidgets.readthedocs.io/en/stable/user_install.html\n",
      "  from .autonotebook import tqdm as notebook_tqdm\n"
     ]
    }
   ],
   "source": [
    "import requests\n",
    "from sentence_transformers import SentenceTransformer"
   ]
  },
  {
   "cell_type": "code",
   "execution_count": null,
   "id": "cc087d0a",
   "metadata": {},
   "outputs": [],
   "source": [
    "# --- Config ---\n",
    "QDRANT_HOST = \"http://15.235.185.158:6333/\"   # Đổi thành địa chỉ Qdrant của bạn\n",
    "COLLECTION_NAME = \"chatbot-docs\"\n",
    "VECTOR_DIM = 1024   # bge-m3 có dimension 1024"
   ]
  },
  {
   "cell_type": "code",
   "execution_count": null,
   "id": "311df64a",
   "metadata": {},
   "outputs": [],
   "source": [
    "\n",
    "#  --- 1. Tạo collection (nếu chưa có) ---\n",
    "def create_collection():\n",
    "    url = f\"{QDRANT_HOST}/collections/{COLLECTION_NAME}\"\n",
    "    payload = {\n",
    "        \"vectors\": {\n",
    "            \"size\": VECTOR_DIM,\n",
    "            \"distance\": \"Cosine\"\n",
    "        }\n",
    "    }\n",
    "    requests.put(url, json=payload)"
   ]
  },
  {
   "cell_type": "code",
   "execution_count": null,
   "id": "bf3e9788",
   "metadata": {},
   "outputs": [],
   "source": [
    "create_collection()"
   ]
  },
  {
   "cell_type": "code",
   "execution_count": null,
   "id": "7878fd9d",
   "metadata": {},
   "outputs": [],
   "source": [
    "def get_embeddings(chunks):\n",
    "    model = SentenceTransformer(\"BAAI/bge-m3\")\n",
    "    return model.encode(chunks, normalize_embeddings=True).tolist()\n",
    "    # normalize_embeddings=True giúp cosine similarity hoạt động tối ưu"
   ]
  },
  {
   "cell_type": "code",
   "execution_count": null,
   "id": "5d556d3e",
   "metadata": {},
   "outputs": [],
   "source": [
    "vectors = get_embeddings(chunks)\n"
   ]
  },
  {
   "cell_type": "code",
   "execution_count": null,
   "id": "842fa344",
   "metadata": {},
   "outputs": [],
   "source": [
    "# --- 3. Đẩy lên Qdrant ---\n",
    "def upsert_chunks(chunks, vectors):\n",
    "    url = f\"{QDRANT_HOST}/collections/{COLLECTION_NAME}/points\"\n",
    "    points = []\n",
    "    for idx, (chunk, vector) in enumerate(zip(chunks, vectors)):\n",
    "        points.append({\n",
    "            \"id\": idx,\n",
    "            \"vector\": vector,\n",
    "            \"payload\": {\"text\": chunk}\n",
    "        })\n",
    "    payload = {\"points\": points}\n",
    "    r = requests.put(url, json=payload)\n",
    "    print(r.json())"
   ]
  },
  {
   "cell_type": "code",
   "execution_count": null,
   "id": "1e5daf6b",
   "metadata": {},
   "outputs": [
    {
     "name": "stdout",
     "output_type": "stream",
     "text": [
      "{'result': {'operation_id': 0, 'status': 'acknowledged'}, 'status': 'ok', 'time': 0.001305792}\n"
     ]
    }
   ],
   "source": [
    "upsert_chunks(chunks, vectors)\n"
   ]
  },
  {
   "cell_type": "code",
   "execution_count": null,
   "id": "3b85a4ac",
   "metadata": {},
   "outputs": [],
   "source": [
    "def search_qdrant(query, top_k=3):\n",
    "    model = SentenceTransformer(\"BAAI/bge-m3\")\n",
    "    query_vec = model.encode([query], normalize_embeddings=True)[0].tolist()\n",
    "\n",
    "    url = f\"{QDRANT_HOST}/collections/{COLLECTION_NAME}/points/search\"\n",
    "    payload = {\n",
    "        \"vector\": query_vec,\n",
    "        \"limit\": top_k,\n",
    "        \"with_payload\": True\n",
    "    }\n",
    "    r = requests.post(url, json=payload)\n",
    "    results = r.json().get(\"result\", [])\n",
    "    if not results:\n",
    "        print(\"Không tìm thấy kết quả.\")\n",
    "    for hit in results:\n",
    "        print(\"ID:\", hit.get(\"id\"))\n",
    "        score = hit.get(\"score\", None)\n",
    "        payload = hit.get(\"payload\", {})\n",
    "        text = payload.get(\"text\", \"<không có văn bản>\")\n",
    "        print(\"Score:\", score)\n",
    "        print(\"Text:\", text)\n",
    "        print(\"-\" * 20)\n",
    "\n"
   ]
  },
  {
   "cell_type": "code",
   "execution_count": null,
   "id": "4be08715",
   "metadata": {},
   "outputs": [
    {
     "name": "stdout",
     "output_type": "stream",
     "text": [
      "ID: 0\n",
      "Score: 0.79945445\n",
      "Text: \n",
      "Hướng dẫn đăng ký mở thẻ MB\n",
      "Hướng dẫn mở thẻ MB online\n",
      "Để có thể đăng ký và mở thẻ của Ngân hàng Quân đội MB trên ứng dụng di động, bạn hãy làm theo hướng dẫn sau:\n",
      "\t• Bước 1: Tải ứng dụng App MBBank về máy, tiến hành đăng nhập vào ứng dụng\n",
      "\t• Bước 2: Lựa chọn mục Thẻ\n",
      "\t• Bước 3: Lựa chọn Phát hành thẻ\n",
      "\t• Bước 4: Lựa chọn loại thẻ mong muốn phát hành (thẻ tín dụng, thẻ đa năng hoặc thẻ ATM) \n",
      "\t• Bước 5: Lựa chọn Tiếp tục và tiếp tục thao tác\n",
      "Hướng dẫn mở thẻ MB online\n",
      ">> Xem thêm: Hướng dẫn mở thẻ MB Hi Collection và trải nghiệm những tiện ích hiện đại\n",
      "Trên đây chúng tôi đã giới thiệu tới bạn cách đăng ký và mở thẻ online nhanh chóng và tiện lợi nhất trên ứng dụng App MBBank. Nếu còn bất kỳ thắc mắc nào về các sản phẩm thẻ cũng như dịch vụ thẻ được cung cấp bởi Ngân hàng Quân đội MB, đừng ngần ngại liên hệ với chúng tôi thông qua Hotline 1900 545426 hoặc truy cập trang web  https://www.mbbank.com.vn/ để được giải đáp kịp thời.\n",
      "--------------------\n",
      "ID: 2\n",
      "Score: 0.5492854\n",
      "Text: Việc lựa chọn loại thẻ ngân hàng nào để sử dụng tùy thuộc vào điều kiện kinh tế cũng như nhu cầu sử dụng của bạn. Sau đây là những loại thẻ ngân hàng phổ biến được phát hành bởi Ngân hàng Quân đội MB mà bạn nên tham khảo:\n",
      "\t1. Thẻ ghi nợ (Debit Card): Dành cho khách hàng có nhu cầu chi tiêu, rút tiền cơ bản.\n",
      "--------------------\n",
      "ID: 7\n",
      "Score: 0.53182644\n",
      "Text: \n",
      "--------------------\n"
     ]
    }
   ],
   "source": [
    "search_qdrant(\"Hướng dẫn mở thẻ MB online\", top_k=3)"
   ]
  },
  {
   "cell_type": "code",
   "execution_count": null,
   "id": "00182187",
   "metadata": {},
   "outputs": [],
   "source": []
  }
 ],
 "metadata": {
  "kernelspec": {
   "display_name": "chatbot",
   "language": "python",
   "name": "python3"
  },
  "language_info": {
   "codemirror_mode": {
    "name": "ipython",
    "version": 3
   },
   "file_extension": ".py",
   "mimetype": "text/x-python",
   "name": "python",
   "nbconvert_exporter": "python",
   "pygments_lexer": "ipython3",
   "version": "3.11.13"
  }
 },
 "nbformat": 4,
 "nbformat_minor": 5
}
